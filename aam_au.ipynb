{
 "cells": [
  {
   "cell_type": "code",
   "execution_count": 1,
   "metadata": {
    "collapsed": true
   },
   "outputs": [],
   "source": [
    "%matplotlib inline\n",
    "\n",
    "import numpy as np\n",
    "import matplotlib.pyplot as plt\n",
    "import scipy\n",
    "import scipy.spatial\n",
    "import os as os\n",
    "\n",
    "import warnings\n",
    "warnings.filterwarnings('ignore')"
   ]
  },
  {
   "cell_type": "code",
   "execution_count": 2,
   "metadata": {
    "collapsed": false
   },
   "outputs": [],
   "source": [
    "# inputs: empty array of 593 frames x 68 AAMs \n",
    "# outputs: 593 frames x 64 AUs array of 0s\n",
    "aam = [[0]*136 for _ in range(593)] \n",
    "aam0 = [[0]*136 for _ in range(593)] \n",
    "aamvec = [[0]*136 for _ in range(593)] \n",
    "au = [[0]*64 for _ in range(593)] \n",
    "emotion = [-1]*593\n",
    "# aam = []\n",
    "# au = []\n",
    "# emotion = []\n",
    "\n",
    "# au2d looks like:\n",
    "# AUs     0   1   2  ...  63\n",
    "# ------------------------\n",
    "# frame \n",
    "# 0     | 0 | 1 | 0 | ... \n",
    "# ------------------------\n",
    "# 1     | 0 | 1 | 1 | ... \n",
    "# ------------------------\n",
    "# 2     | 1 | 1 | 0 | ... \n",
    "# ------------------------\n",
    "# ...\n",
    "# 592\n",
    "\n",
    "# Open and read the output dataset (AU)\n",
    "for i, filename in enumerate(os.listdir(\"au\")):\n",
    "    # first i is .DS_store\n",
    "    if filename.endswith(\".txt\"):\n",
    "        with open(\"au/\" + filename) as f:\n",
    "            lines = f.readlines()\n",
    "            for line in lines:\n",
    "                els = line.split()\n",
    "                if els:\n",
    "                    if els[0][len(els[0]) - 1] == \"0\":\n",
    "                        au[i - 1][int(els[0][0]) - 1] = 1\n",
    "                    else:\n",
    "                        au[i - 1][int(els[0][0] + els[0][2]) - 1] = 1\n",
    "            f.close()\n",
    "\n",
    "# for frame in au2d:\n",
    "#     au.append([feature for feature in frame])"
   ]
  },
  {
   "cell_type": "code",
   "execution_count": 3,
   "metadata": {
    "collapsed": false
   },
   "outputs": [],
   "source": [
    "# inputs looks like: \n",
    "# AAMs         0           1      ... 67\n",
    "# -------------------------------------\n",
    "# frame \n",
    "# 0     | 1.2 | 3.4 | .2 | 3 | ...\n",
    "# -------------------------------------\n",
    "# 1     | [6.5, 3] | [2.2, 3.1] | ...\n",
    "# -------------------------------------\n",
    "# 2     | [5.4, 2.2] | [.9, 2.9] | ...\n",
    "# -------------------------------------\n",
    "# ...\n",
    "# 592\n",
    "\n",
    "for i, filename in enumerate(os.listdir(\"aam\")):\n",
    "    # first i is .DS_store\n",
    "    if filename.endswith(\".txt\"):\n",
    "        with open(\"aam/\" + filename) as f:\n",
    "            lines = f.readlines()\n",
    "            for j, line in enumerate(lines):\n",
    "                els = line.split()\n",
    "                if els:\n",
    "                    aam[i - 1][2 * j] = float(els[0])\n",
    "                    aam[i - 1][2 * j + 1] = float(els[1])\n",
    "#                     aam[i - 1][j] = [float(els[0]), float(els[1])]\n",
    "            f.close()\n",
    "for i, filename in enumerate(os.listdir(\"aamvec\")):\n",
    "    # first i is .DS_store\n",
    "    if filename.endswith(\".txt\"):\n",
    "        with open(\"aamvec/\" + filename) as f:\n",
    "            lines = f.readlines()\n",
    "            for j, line in enumerate(lines):\n",
    "                els = line.split()\n",
    "                if els:\n",
    "                    aam0[i - 1][2 * j] = float(els[0])\n",
    "                    aam0[i - 1][2 * j + 1] = float(els[1])\n",
    "#                     aam[i - 1][j] = [float(els[0]), float(els[1])]\n",
    "            f.close()"
   ]
  },
  {
   "cell_type": "code",
   "execution_count": 4,
   "metadata": {
    "collapsed": false
   },
   "outputs": [],
   "source": [
    "# only 327 out of 593 are coded\n",
    "# non-coded ones are given -1 as class\n",
    "# 0 = neutral\n",
    "# 1 = anger\n",
    "# 2 = contempt\n",
    "# 3 = disgust\n",
    "# 4 = fear\n",
    "# 5 = happy\n",
    "# 6 = sadness\n",
    "# 7 = surprise\n",
    "\n",
    "for i, filename in enumerate(os.listdir(\"emo\")):\n",
    "    # first i is .DS_store\n",
    "    if filename.endswith(\".txt\"):\n",
    "        with open(\"emo/\" + filename) as f:\n",
    "            lines = f.readlines()\n",
    "            for line in lines:\n",
    "                els = line.split() # except last character\n",
    "                if els:\n",
    "                    emotion[i - 1] = int(float(els[0]))\n",
    "            f.close()\n",
    "            \n",
    "# for frame in emotion2d:\n",
    "#     emotion.append(frame)"
   ]
  },
  {
   "cell_type": "code",
   "execution_count": 5,
   "metadata": {
    "collapsed": false
   },
   "outputs": [],
   "source": [
    "for i in range(593):\n",
    "    for j in range(136):\n",
    "        aamvec[i][j] = float(\"%.1f\" % (aam[i][j] - aam0[i][j]))\n"
   ]
  },
  {
   "cell_type": "code",
   "execution_count": 6,
   "metadata": {
    "collapsed": false
   },
   "outputs": [],
   "source": [
    "from sklearn.ensemble import AdaBoostClassifier\n",
    "from sklearn.svm import SVC\n",
    "from sklearn.cross_validation import KFold\n",
    "from sklearn.isotonic import IsotonicRegression\n",
    "from sklearn.linear_model import LinearRegression\n",
    "from sklearn.discriminant_analysis import LinearDiscriminantAnalysis\n",
    "from sklearn.kernel_ridge import KernelRidge\n",
    "from sklearn.linear_model import SGDClassifier\n",
    "from sklearn.neighbors import KNeighborsClassifier\n",
    "from sklearn.gaussian_process import GaussianProcess\n",
    "from sklearn.cross_decomposition import CCA\n",
    "from sklearn.naive_bayes import GaussianNB\n",
    "from sklearn.tree import DecisionTreeClassifier\n",
    "from sklearn.multiclass import OneVsRestClassifier\n",
    "from sklearn.semi_supervised import LabelPropagation\n",
    "\n",
    "cl_lr = LinearRegression()\n",
    "cl_lda = LinearDiscriminantAnalysis()\n",
    "cl_krg = KernelRidge()\n",
    "cl_svm = SVC()\n",
    "cl_sgd = SGDClassifier()\n",
    "cl_knn5 = KNeighborsClassifier(n_neighbors=5)\n",
    "cl_knn10 = KNeighborsClassifier(n_neighbors=10)\n",
    "cl_knn15 = KNeighborsClassifier(n_neighbors=15)\n",
    "cl_gp = GaussianProcess()\n",
    "cl_cd = CCA()\n",
    "cl_nb = GaussianNB()\n",
    "cl_dt = DecisionTreeClassifier()\n",
    "cl_ab = AdaBoostClassifier()\n",
    "cl_mc = OneVsRestClassifier(SVC(kernel='linear'))\n",
    "cl_lp = LabelPropagation()\n",
    "cl_ir = IsotonicRegression()"
   ]
  },
  {
   "cell_type": "code",
   "execution_count": 7,
   "metadata": {
    "collapsed": true
   },
   "outputs": [],
   "source": [
    "kf = KFold(n=593, n_folds=593)\n",
    "train_input = []\n",
    "train_output = []\n",
    "\n",
    "vlr = 0\n",
    "vlda = 0\n",
    "vkrg = 0\n",
    "vsvm = 0\n",
    "vsgd = 0\n",
    "vknn5 = 0\n",
    "vknn10 = 0\n",
    "vknn15 = 0\n",
    "vgp = 0\n",
    "vcd = 0\n",
    "vnb = 0\n",
    "vdt = 0\n",
    "vab = 0\n",
    "vmc = 0\n",
    "vlp = 0\n",
    "vir = 0"
   ]
  },
  {
   "cell_type": "code",
   "execution_count": 8,
   "metadata": {
    "collapsed": false
   },
   "outputs": [],
   "source": [
    "warnings.filterwarnings('ignore')\n",
    "\n",
    "train_input = []\n",
    "train_output = []\n",
    "counter = 0\n",
    "v_counter = 0\n",
    "vlda = 0\n",
    "vsvm= 0\n",
    "vsgd = 0\n",
    "for (train_index, test_index) in kf:\n",
    "    for idx in train_index:\n",
    "        train_input.append(aamvec[idx])\n",
    "    for idxau in range(64):\n",
    "        for idx in train_index: \n",
    "            train_output.append(au[idx][idxau])\n",
    "            if (au[idx][idxau] == 1):\n",
    "                counter += 1\n",
    "        if (counter != 0):\n",
    "#             cl_lr.fit(train_input, train_output)\n",
    "#             vlr += cl_lr.score(aamvec[test_index], [au[test_index][idxau]])\n",
    "            cl_lda.fit(train_input, train_output)\n",
    "            vlda += cl_lda.score(aamvec[test_index], [au[test_index][idxau]]) \n",
    "#             cl_krg.fit(train_input, train_output) \n",
    "#             vkrg += cl_krg.score(aamvec[test_index], [au[test_index][idxau]])\n",
    "            cl_svm.fit(train_input, train_output)\n",
    "            vsvm += cl_svm.score(aamvec[test_index], [au[test_index][idxau]])\n",
    "            cl_sgd.fit(train_input, train_output)\n",
    "            vsgd += cl_sgd.score(aamvec[test_index], [au[test_index][idxau]])\n",
    "            v_counter += 1\n",
    "        train_output = []\n",
    "        counter = 0\n",
    "    train_input = []"
   ]
  },
  {
   "cell_type": "code",
   "execution_count": null,
   "metadata": {
    "collapsed": false
   },
   "outputs": [],
   "source": [
    "# train_input = []\n",
    "# train_output = []\n",
    "# counter = 0\n",
    "# for (train_index, test_index) in kf:\n",
    "#     for idx in train_index:\n",
    "#         train_input.append(aamvec[idx])\n",
    "#     for idxau in range(64):\n",
    "#         for idx in train_index: \n",
    "#             train_output.append(au[idx][idxau])  \n",
    "#             if (au[idx][idxau] == 1):\n",
    "#                 counter += 1\n",
    "#         if (counter != 0):\n",
    "#             cl_lda.fit(train_input, train_output)\n",
    "#             vlda += cl_lda.score(aamvec[test_index], [au[test_index][idxau]])   \n",
    "    \n",
    "#         train_output = []\n",
    "#         counter = 0\n",
    "#     train_input = []"
   ]
  },
  {
   "cell_type": "code",
   "execution_count": null,
   "metadata": {
    "collapsed": false
   },
   "outputs": [],
   "source": [
    "# train_input = []\n",
    "# train_output = []\n",
    "# counter = 0\n",
    "# for (train_index, test_index) in kf:\n",
    "#     for idx in train_index:\n",
    "#         train_input.append(aamvec[idx])\n",
    "#     for idxau in range(64):\n",
    "#         for idx in train_index: \n",
    "#             train_output.append(au[idx][idxau])               \n",
    "#             if (au[idx][idxau] == 1):\n",
    "#                 counter += 1\n",
    "#         if (counter != 0):    \n",
    "#             cl_krg.fit(train_input, train_output) \n",
    "#             vkrg += cl_krg.score(aamvec[test_index], [au[test_index][idxau]])\n",
    "    \n",
    "#         train_output = []\n",
    "#         counter = 0\n",
    "#     train_input = []"
   ]
  },
  {
   "cell_type": "code",
   "execution_count": 15,
   "metadata": {
    "collapsed": false
   },
   "outputs": [],
   "source": [
    "# train_input = []\n",
    "# train_output = []\n",
    "# counter = 0\n",
    "# for (train_index, test_index) in kf:\n",
    "#     for idx in train_index:\n",
    "#         train_input.append(aamvec[idx])\n",
    "#     for idxau in range(64):\n",
    "#         for idx in train_index: \n",
    "#             train_output.append(au[idx][idxau])      \n",
    "#             if (au[idx][idxau] == 1):\n",
    "#                 counter += 1\n",
    "#         if (counter != 0):\n",
    "#             cl_svm.fit(train_input, train_output)\n",
    "#             vsvm += cl_svm.score(aamvec[test_index], [au[test_index][idxau]])\n",
    "    \n",
    "#         train_output = []\n",
    "#         counter = 0\n",
    "#     train_input = []"
   ]
  },
  {
   "cell_type": "code",
   "execution_count": null,
   "metadata": {
    "collapsed": false
   },
   "outputs": [],
   "source": [
    "# train_input = []\n",
    "# train_output = []\n",
    "# counter = 0\n",
    "# for (train_index, test_index) in kf:\n",
    "#     for idx in train_index:\n",
    "#         train_input.append(aamvec[idx])\n",
    "#     for idxau in range(64):\n",
    "#         for idx in train_index: \n",
    "#             train_output.append(au[idx][idxau])    \n",
    "#             if (au[idx][idxau] == 1):\n",
    "#                 counter += 1\n",
    "#         if (counter != 0):\n",
    "#             cl_sgd.fit(train_input, train_output)\n",
    "#             vsgd += cl_sgd.score(aamvec[test_index], [au[test_index][idxau]])\n",
    "    \n",
    "#         train_output = []\n",
    "#         counter = 0\n",
    "#     train_input = []"
   ]
  },
  {
   "cell_type": "code",
   "execution_count": 9,
   "metadata": {
    "collapsed": false
   },
   "outputs": [],
   "source": [
    "train_input = []\n",
    "train_output = []\n",
    "counter = 0\n",
    "num_v = 0\n",
    "vknn5 = 0\n",
    "vknn10 = 0\n",
    "vknn15 = 0\n",
    "for (train_index, test_index) in kf:\n",
    "    for idx in train_index:\n",
    "        train_input.append(aamvec[idx])\n",
    "    for idxau in range(64):\n",
    "        for idx in train_index: \n",
    "            train_output.append(au[idx][idxau])        \n",
    "            if (au[idx][idxau] == 1):\n",
    "                counter += 1\n",
    "        if (counter != 0):\n",
    "            cl_knn5.fit(train_input, train_output)\n",
    "            vknn5 += cl_knn5.score(aamvec[test_index], [au[test_index][idxau]])  \n",
    "            cl_knn10.fit(train_input, train_output)\n",
    "            vknn10 += cl_knn10.score(aamvec[test_index], [au[test_index][idxau]]) \n",
    "            cl_knn15.fit(train_input, train_output)\n",
    "            vknn15 += cl_knn15.score(aamvec[test_index], [au[test_index][idxau]]) \n",
    "            num_v += 1\n",
    "    \n",
    "        train_output = []\n",
    "        counter = 0\n",
    "    train_input = []"
   ]
  },
  {
   "cell_type": "code",
   "execution_count": 10,
   "metadata": {
    "collapsed": false
   },
   "outputs": [
    {
     "ename": "KeyboardInterrupt",
     "evalue": "",
     "output_type": "error",
     "traceback": [
      "\u001b[0;31m---------------------------------------------------------------------------\u001b[0m",
      "\u001b[0;31mKeyboardInterrupt\u001b[0m                         Traceback (most recent call last)",
      "\u001b[0;32m<ipython-input-10-dffdebb65eb1>\u001b[0m in \u001b[0;36m<module>\u001b[0;34m()\u001b[0m\n\u001b[1;32m     11\u001b[0m                 \u001b[0mcounter\u001b[0m \u001b[0;34m+=\u001b[0m \u001b[0;36m1\u001b[0m\u001b[0;34m\u001b[0m\u001b[0m\n\u001b[1;32m     12\u001b[0m         \u001b[0;32mif\u001b[0m \u001b[0;34m(\u001b[0m\u001b[0mcounter\u001b[0m \u001b[0;34m!=\u001b[0m \u001b[0;36m0\u001b[0m\u001b[0;34m)\u001b[0m\u001b[0;34m:\u001b[0m\u001b[0;34m\u001b[0m\u001b[0m\n\u001b[0;32m---> 13\u001b[0;31m             \u001b[0mcl_cd\u001b[0m\u001b[0;34m.\u001b[0m\u001b[0mfit\u001b[0m\u001b[0;34m(\u001b[0m\u001b[0mtrain_input\u001b[0m\u001b[0;34m,\u001b[0m \u001b[0mtrain_output\u001b[0m\u001b[0;34m)\u001b[0m\u001b[0;34m\u001b[0m\u001b[0m\n\u001b[0m\u001b[1;32m     14\u001b[0m             \u001b[0mvcd\u001b[0m \u001b[0;34m+=\u001b[0m \u001b[0mcl_cd\u001b[0m\u001b[0;34m.\u001b[0m\u001b[0mscore\u001b[0m\u001b[0;34m(\u001b[0m\u001b[0maam\u001b[0m\u001b[0;34m[\u001b[0m\u001b[0mtest_index\u001b[0m\u001b[0;34m]\u001b[0m\u001b[0;34m,\u001b[0m \u001b[0;34m[\u001b[0m\u001b[0mau\u001b[0m\u001b[0;34m[\u001b[0m\u001b[0mtest_index\u001b[0m\u001b[0;34m]\u001b[0m\u001b[0;34m[\u001b[0m\u001b[0midxau\u001b[0m\u001b[0;34m]\u001b[0m\u001b[0;34m]\u001b[0m\u001b[0;34m)\u001b[0m\u001b[0;34m\u001b[0m\u001b[0m\n\u001b[1;32m     15\u001b[0m \u001b[0;34m\u001b[0m\u001b[0m\n",
      "\u001b[0;32m/Users/anzuhakone/anaconda/lib/python2.7/site-packages/sklearn/cross_decomposition/pls_.pyc\u001b[0m in \u001b[0;36mfit\u001b[0;34m(self, X, Y)\u001b[0m\n\u001b[1;32m    247\u001b[0m         \u001b[0;31m# copy since this will contains the residuals (deflated) matrices\u001b[0m\u001b[0;34m\u001b[0m\u001b[0;34m\u001b[0m\u001b[0m\n\u001b[1;32m    248\u001b[0m         \u001b[0mcheck_consistent_length\u001b[0m\u001b[0;34m(\u001b[0m\u001b[0mX\u001b[0m\u001b[0;34m,\u001b[0m \u001b[0mY\u001b[0m\u001b[0;34m)\u001b[0m\u001b[0;34m\u001b[0m\u001b[0m\n\u001b[0;32m--> 249\u001b[0;31m         \u001b[0mX\u001b[0m \u001b[0;34m=\u001b[0m \u001b[0mcheck_array\u001b[0m\u001b[0;34m(\u001b[0m\u001b[0mX\u001b[0m\u001b[0;34m,\u001b[0m \u001b[0mdtype\u001b[0m\u001b[0;34m=\u001b[0m\u001b[0mnp\u001b[0m\u001b[0;34m.\u001b[0m\u001b[0mfloat64\u001b[0m\u001b[0;34m,\u001b[0m \u001b[0mcopy\u001b[0m\u001b[0;34m=\u001b[0m\u001b[0mself\u001b[0m\u001b[0;34m.\u001b[0m\u001b[0mcopy\u001b[0m\u001b[0;34m)\u001b[0m\u001b[0;34m\u001b[0m\u001b[0m\n\u001b[0m\u001b[1;32m    250\u001b[0m         \u001b[0mY\u001b[0m \u001b[0;34m=\u001b[0m \u001b[0mcheck_array\u001b[0m\u001b[0;34m(\u001b[0m\u001b[0mY\u001b[0m\u001b[0;34m,\u001b[0m \u001b[0mdtype\u001b[0m\u001b[0;34m=\u001b[0m\u001b[0mnp\u001b[0m\u001b[0;34m.\u001b[0m\u001b[0mfloat64\u001b[0m\u001b[0;34m,\u001b[0m \u001b[0mcopy\u001b[0m\u001b[0;34m=\u001b[0m\u001b[0mself\u001b[0m\u001b[0;34m.\u001b[0m\u001b[0mcopy\u001b[0m\u001b[0;34m,\u001b[0m \u001b[0mensure_2d\u001b[0m\u001b[0;34m=\u001b[0m\u001b[0mFalse\u001b[0m\u001b[0;34m)\u001b[0m\u001b[0;34m\u001b[0m\u001b[0m\n\u001b[1;32m    251\u001b[0m         \u001b[0;32mif\u001b[0m \u001b[0mY\u001b[0m\u001b[0;34m.\u001b[0m\u001b[0mndim\u001b[0m \u001b[0;34m==\u001b[0m \u001b[0;36m1\u001b[0m\u001b[0;34m:\u001b[0m\u001b[0;34m\u001b[0m\u001b[0m\n",
      "\u001b[0;32m/Users/anzuhakone/anaconda/lib/python2.7/site-packages/sklearn/utils/validation.pyc\u001b[0m in \u001b[0;36mcheck_array\u001b[0;34m(array, accept_sparse, dtype, order, copy, force_all_finite, ensure_2d, allow_nd, ensure_min_samples, ensure_min_features, warn_on_dtype, estimator)\u001b[0m\n\u001b[1;32m    371\u001b[0m                                       force_all_finite)\n\u001b[1;32m    372\u001b[0m     \u001b[0;32melse\u001b[0m\u001b[0;34m:\u001b[0m\u001b[0;34m\u001b[0m\u001b[0m\n\u001b[0;32m--> 373\u001b[0;31m         \u001b[0marray\u001b[0m \u001b[0;34m=\u001b[0m \u001b[0mnp\u001b[0m\u001b[0;34m.\u001b[0m\u001b[0marray\u001b[0m\u001b[0;34m(\u001b[0m\u001b[0marray\u001b[0m\u001b[0;34m,\u001b[0m \u001b[0mdtype\u001b[0m\u001b[0;34m=\u001b[0m\u001b[0mdtype\u001b[0m\u001b[0;34m,\u001b[0m \u001b[0morder\u001b[0m\u001b[0;34m=\u001b[0m\u001b[0morder\u001b[0m\u001b[0;34m,\u001b[0m \u001b[0mcopy\u001b[0m\u001b[0;34m=\u001b[0m\u001b[0mcopy\u001b[0m\u001b[0;34m)\u001b[0m\u001b[0;34m\u001b[0m\u001b[0m\n\u001b[0m\u001b[1;32m    374\u001b[0m \u001b[0;34m\u001b[0m\u001b[0m\n\u001b[1;32m    375\u001b[0m         \u001b[0;32mif\u001b[0m \u001b[0mensure_2d\u001b[0m\u001b[0;34m:\u001b[0m\u001b[0;34m\u001b[0m\u001b[0m\n",
      "\u001b[0;31mKeyboardInterrupt\u001b[0m: "
     ]
    }
   ],
   "source": [
    "# train_input = []\n",
    "# train_output = []\n",
    "# counter = 0\n",
    "# for (train_index, test_index) in kf:\n",
    "#     for idx in train_index:\n",
    "#         train_input.append(aam[idx])\n",
    "#     for idxau in range(64):\n",
    "#         for idx in train_index: \n",
    "#             train_output.append(au[idx][idxau])   \n",
    "#             if (au[idx][idxau] == 1):\n",
    "#                 counter += 1\n",
    "#         if (counter != 0):\n",
    "#             cl_cd.fit(train_input, train_output)\n",
    "#             vcd += cl_cd.score(aam[test_index], [au[test_index][idxau]])  \n",
    "\n",
    "#         train_output = []\n",
    "#         counter = 0\n",
    "#     train_input = []"
   ]
  },
  {
   "cell_type": "code",
   "execution_count": 10,
   "metadata": {
    "collapsed": true
   },
   "outputs": [],
   "source": [
    "train_input = []\n",
    "train_output = []\n",
    "counter = 0\n",
    "vnb = 0\n",
    "vab = 0\n",
    "vlp = 0\n",
    "\n",
    "for (train_index, test_index) in kf:\n",
    "    for idx in train_index:\n",
    "        train_input.append(aamvec[idx])\n",
    "    for idxau in range(64):\n",
    "        for idx in train_index: \n",
    "            train_output.append(au[idx][idxau])  \n",
    "            if (au[idx][idxau] == 1):\n",
    "                counter += 1\n",
    "        if (counter != 0):\n",
    "            cl_nb.fit(train_input, train_output)\n",
    "            vnb += cl_nb.score(aamvec[test_index], [au[test_index][idxau]])\n",
    "#             cl_cd.fit(train_input, train_output)\n",
    "#             vcd += cl_cd.score(aamvec[test_index], [au[test_index][idxau]]) \n",
    "            cl_ab.fit(train_input, train_output)\n",
    "            vab += cl_ab.score(aamvec[test_index], [au[test_index][idxau]])\n",
    "            cl_lp.fit(train_input, train_output)\n",
    "            vlp += cl_lp.score(aamvec[test_index], [au[test_index][idxau]])\n",
    "\n",
    "        train_output = []\n",
    "        counter = 0\n",
    "    train_input = []"
   ]
  },
  {
   "cell_type": "code",
   "execution_count": 11,
   "metadata": {
    "collapsed": true
   },
   "outputs": [],
   "source": [
    "train_input = []\n",
    "train_output = []\n",
    "counter = 0\n",
    "vdt = 0\n",
    "for (train_index, test_index) in kf:\n",
    "    for idx in train_index:\n",
    "        train_input.append(aamvec[idx])\n",
    "    for idxau in range(64):\n",
    "        for idx in train_index: \n",
    "            train_output.append(au[idx][idxau])    \n",
    "            if (au[idx][idxau] == 1):\n",
    "                counter += 1\n",
    "        if (counter != 0):\n",
    "            cl_dt.fit(train_input, train_output)\n",
    "            vdt += cl_dt.score(aamvec[test_index], [au[test_index][idxau]])  \n",
    "            \n",
    "\n",
    "        train_output = []\n",
    "        counter = 0\n",
    "    train_input = []"
   ]
  },
  {
   "cell_type": "code",
   "execution_count": 28,
   "metadata": {
    "collapsed": true
   },
   "outputs": [],
   "source": [
    "# train_input = []\n",
    "# train_output = []\n",
    "# counter = 0\n",
    "# for (train_index, test_index) in kf:\n",
    "#     for idx in train_index:\n",
    "#         train_input.append(aam[idx])\n",
    "#     for idxau in range(64):\n",
    "#         for idx in train_index: \n",
    "#             train_output.append(au[idx][idxau])     \n",
    "#             if (au[idx][idxau] == 1):\n",
    "#                 counter += 1\n",
    "#         if (counter != 0):\n",
    "#             cl_ab.fit(train_input, train_output)\n",
    "#             vab += cl_ab.score(aam[test_index], [au[test_index][idxau]])\n",
    "\n",
    "#         train_outpu = []\n",
    "#         counter = 0\n",
    "#     train_input = []"
   ]
  },
  {
   "cell_type": "code",
   "execution_count": 13,
   "metadata": {
    "collapsed": true
   },
   "outputs": [],
   "source": [
    "# train_input = []\n",
    "# train_output = []\n",
    "# counter = 0\n",
    "# for (train_index, test_index) in kf:\n",
    "#     for idx in train_index:\n",
    "#         train_input.append(aam[idx])\n",
    "#     for idxau in range(64):\n",
    "#         for idx in train_index: \n",
    "#             train_output.append(au[idx][idxau])   \n",
    "#             if (au[idx][idxau] == 1):\n",
    "#                 counter += 1\n",
    "#         if (counter != 0):\n",
    "#             cl_lp.fit(train_input, train_output)\n",
    "#             vlp += cl_lp.score(aam[test_index], [au[test_index][idxau]])\n",
    "\n",
    "#         train_output = []\n",
    "#         counter = 0\n",
    "#     train_input = []"
   ]
  },
  {
   "cell_type": "code",
   "execution_count": 12,
   "metadata": {
    "collapsed": false
   },
   "outputs": [
    {
     "name": "stdout",
     "output_type": "stream",
     "text": [
      "23123\n",
      "Linear regression: 0\n",
      "LDA: 0.875924404273\n",
      "KRG: 0\n",
      "SVM: 0.907364961294\n",
      "SGD: 0.776932058989\n",
      "KNN5: 0.899450763309\n",
      "KNN10: 0.905072871167\n",
      "KNN15: 0.905332353068\n",
      "GP: 0\n",
      "CD: 0\n",
      "NB: 0.669679539852\n",
      "DT: 0.8593175626\n",
      "adaboost: 0.893136703715\n",
      "MC: 0\n",
      "LP: 0.904424166414\n",
      "IR: 0\n"
     ]
    }
   ],
   "source": [
    "\n",
    "print num_v\n",
    "print(\"Linear regression: \" + str(vlr / num_v))\n",
    "print(\"LDA: \" + str(vlda / num_v))\n",
    "print(\"KRG: \" + str(vkrg / num_v))\n",
    "print(\"SVM: \" + str(vsvm / num_v))\n",
    "print(\"SGD: \" + str(vsgd / num_v))\n",
    "print(\"KNN5: \" + str(vknn5 / num_v))\n",
    "print(\"KNN10: \" + str(vknn10 / num_v))\n",
    "print(\"KNN15: \" + str(vknn15 / num_v))\n",
    "print(\"GP: \" + str(vgp / num_v))\n",
    "print(\"CD: \" + str(vcd / num_v))\n",
    "print(\"NB: \" + str(vnb / num_v))\n",
    "print(\"DT: \" + str(vdt / num_v))\n",
    "print(\"adaboost: \" + str(vab / num_v))\n",
    "print(\"MC: \" + str(vmc / num_v))\n",
    "print(\"LP: \" + str(vlp / num_v))\n",
    "print(\"IR: \" + str(vir / num_v))"
   ]
  },
  {
   "cell_type": "code",
   "execution_count": 16,
   "metadata": {
    "collapsed": false
   },
   "outputs": [
    {
     "name": "stdout",
     "output_type": "stream",
     "text": [
      "136\n"
     ]
    }
   ],
   "source": []
  },
  {
   "cell_type": "code",
   "execution_count": null,
   "metadata": {
    "collapsed": true
   },
   "outputs": [],
   "source": [
    "# for (train_index, test_index) in kf:\n",
    "#     for idx in train_index:\n",
    "#         train_input.append(aam[idx])\n",
    "#         train_output.append(emotion[idx])\n",
    "        \n",
    "#     cl_lr.fit(train_input, train_output)\n",
    "#     cl_lda.fit(train_input, train_output)\n",
    "#     cl_krg.fit(train_input, train_output)\n",
    "#     cl_svm.fit(train_input, train_output)\n",
    "#     cl_sgd.fit(train_input, train_output)\n",
    "#     cl_knn5.fit(train_input, train_output)\n",
    "#     cl_knn10.fit(train_input, train_output)\n",
    "#     cl_knn15.fit(train_input, train_output)\n",
    "# #     cl_gp.fit(train_input, train_output)\n",
    "#     cl_cd.fit(train_input, train_output)\n",
    "#     cl_nb.fit(train_input, train_output)\n",
    "#     cl_dt.fit(train_input, train_output)\n",
    "#     cl_ab.fit(train_input, train_output)\n",
    "#     cl_mc.fit(train_input, train_output)\n",
    "#     cl_lp.fit(train_input, train_output)\n",
    "#     cl_ir.fit(train_input, train_output)\n",
    "    \n",
    "#     vlr += cl_lr.score(aam[test_index], [emotion[test_index]])\n",
    "#     vlda += cl_lda.score(aam[test_index], [emotion[test_index]])    \n",
    "#     vkrg += cl_krg.score(aam[test_index], [emotion[test_index]])\n",
    "#     vsvm += cl_svm.score(aam[test_index], [emotion[test_index]])   \n",
    "#     vsdg += cl_sdg.score(aam[test_index], [emotion[test_index]])\n",
    "#     vknn5 += cl_knn.score(aam[test_index], [emotion[test_index]])   \n",
    "#     vknn10 += cl_knn.score(aam[test_index], [emotion[test_index]])   \n",
    "#     vknn15 += cl_knn.score(aam[test_index], [emotion[test_index]])   \n",
    "# #     vgp += cl_gp.score(aam[test_index], [emotion[test_index]])\n",
    "#     vcd += cl_cd.score(aam[test_index], [emotion[test_index]])   \n",
    "#     vnb += cl_nb.score(aam[test_index], [emotion[test_index]])\n",
    "#     vdt += cl_dt.score(aam[test_index], [emotion[test_index]])   \n",
    "#     vab += cl_ab.score(aam[test_index], [emotion[test_index]])\n",
    "#     vmc += cl_mc.score(aam[test_index], [emotion[test_index]]) \n",
    "#     vlp += cl_lp.score(aam[test_index], [emotion[test_index]])\n",
    "#     vir += cl_ir.score(aam[test_index], [emotion[test_index]]) \n",
    "    \n",
    "#     train_input = []\n",
    "#     train_output = []"
   ]
  }
 ],
 "metadata": {
  "kernelspec": {
   "display_name": "Python 2",
   "language": "python",
   "name": "python2"
  },
  "language_info": {
   "codemirror_mode": {
    "name": "ipython",
    "version": 2
   },
   "file_extension": ".py",
   "mimetype": "text/x-python",
   "name": "python",
   "nbconvert_exporter": "python",
   "pygments_lexer": "ipython2",
   "version": "2.7.11"
  }
 },
 "nbformat": 4,
 "nbformat_minor": 0
}
